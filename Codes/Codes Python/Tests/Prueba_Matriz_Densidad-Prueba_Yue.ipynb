{
 "cells": [
  {
   "cell_type": "markdown",
   "metadata": {},
   "source": [
    "# Resolution of the system\n",
    "\n",
    "In this code we will try to solve the problem of going from the state $T_-(1,1)$ to the state $S(1,1)$, with the minimum psssible population of the double ocupation state $S(0,2)$. The model of the system will be a effective 2-level Hamiltonian like\n",
    "\n",
    "$$\n",
    "H_0(\\varepsilon)=\\left(\\begin{array}{cc}\n",
    "\\Delta(\\varepsilon) & \\lambda \\\\\n",
    "\\lambda & -\\Delta(\\varepsilon)\n",
    "\\end{array}\\right)\n",
    "$$\n",
    "\n",
    "where $\\Delta(\\epsilon)= [E_T-E_S(\\varepsilon)]/2$, $E_T=-g\\mu_B$ and $E_S(\\varepsilon)=[u+\\varepsilon-\\sqrt{8\\tau^2+(u+\\varepsilon)^2}]/2$. The parameters that we will use are:\n",
    "\n",
    "$$\n",
    "\\begin{split}\n",
    "g&=1.35\\\\\n",
    "B&=0.015 \\; T\\\\\n",
    "\\tau&=0.25 \\; \\mu eV\\\\\n",
    "\\lambda&=0.1 \\, \\mu eV\n",
    "\\end{split}\n",
    "$$\n",
    "\n",
    "To work we some nice numbers the units of energy will be $\\mu eV$ and the units of time $ns$."
   ]
  },
  {
   "cell_type": "code",
   "execution_count": 1,
   "metadata": {},
   "outputs": [],
   "source": [
    "#Libreries that we will use\n",
    "import numpy as np\n",
    "import matplotlib.pyplot as plt\n",
    "from scipy.integrate import solve_ivp, odeint, quad\n",
    "from scipy.interpolate import interp1d\n",
    "from IPython.display import Image"
   ]
  },
  {
   "cell_type": "code",
   "execution_count": 2,
   "metadata": {},
   "outputs": [],
   "source": [
    "hbar=1.055*10**(-34) # Hbar (J*s)\n",
    "g=1.35 # g-factor fo the GaAs\n",
    "muB=9.27*10**(-24) # Bohr magneton (J/T)\n",
    "B=0.015 # Magnetic field applied (T)\n",
    "ET = -g * muB * B # Zeeman spliting (ueV)\n",
    "l = 0.1*1.6*10**(-19)*10**(-6)/(hbar/2) # Spin-flip tunneling (J)\n",
    "tau = 5*1.6*10**(-19)*10**(-6) # Sping-conserving (J)\n",
    "u = 3000*1.6*10**(-19)*10**(-6)  #Intradot interaction (J)"
   ]
  },
  {
   "cell_type": "markdown",
   "metadata": {},
   "source": [
    "The energy spectrum of or system is shown in the following figure. The parameters used to obtain this plot are the same as the given above.\n",
    "![title](img/Energy_Spectrum.png)\n",
    "\n",
    "We will go from -4 to 4 in this graph. The value obtained for $\\tilde{c}=3.26 \\; ns$, the adiabaticity parameter $c=\\tilde{c}/t_f\\ll 1$, in our case the times that we will use are  $t_F \\sim 15 \\; ns$ obtaining $c\\sim 0.2$. To compute this value we have made use of\n",
    "\n",
    "$$\n",
    "\\tilde{c}=ct_F=\\pm\\int^{\\Delta(t_f)}_{\\Delta(0)}\\dfrac{d \\Delta}{\\left|\\dfrac{E_1-E_2}{\\langle \\phi_1| \\partial _{\\Delta}\\phi_2\\rangle}\\right|}\n",
    "$$\n",
    "\n",
    "where the states are\n",
    "\n",
    "$$\n",
    "\\begin{array}{cc}\n",
    "|\\phi_1\\rangle=\\left(\\begin{array}{c}\\cos(\\theta/2) \\\\ \\sin(\\theta/2)\\end{array}\\right) & \n",
    "|\\phi_2\\rangle=\\left(\\begin{array}{c}\\sin(\\theta/2) \\\\ -\\cos(\\theta/2)\\end{array}\\right)\n",
    "\\end{array}\n",
    "$$\n",
    "\n",
    "$\\tan(\\theta/2)=[-\\Delta+\\sqrt{\\Delta^2+\\lambda^2}]/\\lambda$ and $E_1-E_2=\\sqrt{\\Delta^2+\\lambda^2}$. The result obtained is finally\n",
    "\n",
    "$$\n",
    "\\left|\\dfrac{E_1-E_2}{\\langle \\phi_1|\\partial_{\\Delta}\\phi_2\\rangle}\\right|=4\\left|\\dfrac{(\\lambda^2+\\Delta^2)^{1.5}}{\\hbar\\lambda}\\right|\n",
    "$$"
   ]
  },
  {
   "cell_type": "code",
   "execution_count": 3,
   "metadata": {},
   "outputs": [
    {
     "name": "stdout",
     "output_type": "stream",
     "text": [
      "3.2595172113696094e-09\n"
     ]
    }
   ],
   "source": [
    "Es = lambda eps: (u + eps - np.sqrt(8 * tau ** 2 + (u + eps) ** 2)) / 2 # Energy of the hibrid singlet state (J)\n",
    "Delta = lambda eps: (-ET+Es(eps)) / 2/(hbar/2) # Refactor of the energy level in the effective Hamiltonan (J)\n",
    "\n",
    "eps0 = -3050*1.6*10**(-19)*10**(-6) # Bias energy at the beggining of the procedure (J)\n",
    "epstf = -2800*1.6*10**(-19)*10**(-6) # Bias energy at the end of the procedure (J)\n",
    "#c1=quad(lambda delta: l / np.abs(l ** 2 + delta ** 2) ** 1.5,Delta(eps0),Delta(epstf))[0]/2 # Rescaling of the adiabaticity parameter (s)\n",
    "\n",
    "N=10000000\n",
    "deltas=np.linspace(Delta(eps0),Delta(epstf),N,endpoint=True)\n",
    "c1=np.sum(1/np.abs((l**2+deltas**2)**(1.5)/l))*np.abs((deltas[0]-deltas[1]))/2\n",
    "\n",
    "print(c1) # Print the value obtained for the rescaling of the adiabaticy parameter"
   ]
  },
  {
   "cell_type": "markdown",
   "metadata": {},
   "source": [
    "The EDO's that we have to solve in order to obtain the dynamic of the system is given in terms of the density matrix\n",
    "\n",
    "$$\n",
    "\\dfrac{d \\rho(t)}{d t}=-\\dfrac{i}{\\hbar}\\left[H(t),\\rho(t)\\right]\n",
    "$$"
   ]
  },
  {
   "cell_type": "code",
   "execution_count": 4,
   "metadata": {},
   "outputs": [],
   "source": [
    "def hamiltonian(t): # Definition of the Hamiltonian of the system in terms of the time\n",
    "    H=np.zeros([2,2],dtype=complex)\n",
    "    H[0,:]=[fDelta(t),l]\n",
    "    H[1,:]=[l,-fDelta(t)]\n",
    "    return H\n",
    "\n",
    "def density_matrix(t,y): # Definition of the density matrix equation for the evolution\n",
    "    rho=np.reshape(y,[2,2]) # The density matrix is given as an array, reshape to form a matrix 2x2\n",
    "    H=hamiltonian(t) # Obtain the familtonian at the given time\n",
    "    drhodt=np.matmul(H,rho)-np.matmul(rho,H) # Compute the commutator of the density matrix and the Hamiltonian\n",
    "    return(-1j*drhodt.flatten()) #Compute the right-hand side of the EDO to be solved"
   ]
  },
  {
   "cell_type": "markdown",
   "metadata": {},
   "source": [
    "Now we have to solve the EDO that give us the dependence of the bias in terms of the time, this is\n",
    "\n",
    "$$\n",
    "\\dfrac{d\\Delta}{ds}=\\pm\\tilde{c}\\left|\\dfrac{E_1-E_2}{\\langle \\phi_1|\\partial_{\\Delta}\\phi_2\\rangle}\\right|\n",
    "$$\n",
    "\n",
    "between $s=0$ and $s=1$."
   ]
  },
  {
   "cell_type": "code",
   "execution_count": 5,
   "metadata": {},
   "outputs": [
    {
     "data": {
      "text/plain": "<Figure size 432x288 with 1 Axes>",
      "image/png": "[encoded data removed]"
     },
     "metadata": {
      "needs_background": "light"
     },
     "output_type": "display_data"
    }
   ],
   "source": [
    "def model(y, t): # EDO to be solved\n",
    "    return np.abs(y**2+l**2)**(1.5)*2*c1/l # The sign has been choosen to get the right values of the bias\n",
    "\n",
    "nt = 1000 # Numer of time steps\n",
    "s = np.linspace(0, 1, nt) # Rescaled time parameter s=t/tF\n",
    "delta_sol = odeint(model, Delta(eps0), s)[:, 0]  # Solve numerically the values of the rescaling energy in terms of s\n",
    "epsilon_sol = -2 * delta_sol + ET + 2 * tau ** 2 / (2 * delta_sol - ET) - u # Value for the bias in terms of s (this expression have being obtained inverting the eq. for Delta)\n",
    "plt.plot(s, delta_sol) # Plot for the rescaled bias\n",
    "plt.xlabel(r'$s$')\n",
    "plt.ylabel(r'$(\\varepsilon+u)/E_T$');"
   ]
  },
  {
   "cell_type": "code",
   "execution_count": null,
   "metadata": {
    "pycharm": {
     "is_executing": true
    }
   },
   "outputs": [],
   "source": [
    "density0=np.zeros([2,2],dtype=complex) #Initialize the variable to save the density matrix\n",
    "density0[0,0]=1 # Initially the only state populated is the triplet (in our basis the first state)\n",
    "\n",
    "n=100 #Number of different final times for the procedure\n",
    "tf=np.linspace(0.1,30,n) # Array of final times (ns)\n",
    "Prob=np.zeros([2,n,nt]) # Varaible to save the population for each state (state, final_time, evolution)\n",
    "\n",
    "for i in range (0,1):  #Iterate to solve of the dynamics for each final time\n",
    "    t=np.linspace(0,tf[i],nt) # Array for the time (ns)\n",
    "    fDelta = interp1d(t, delta_sol, kind='cubic', fill_value=\"extrapolate\") # Interpolate the values obtained for Delta\n",
    "    sol= solve_ivp(density_matrix,(t[0],t[-1]), density0.flatten(),t_eval=t) # Solve the dynamic\n",
    "    solution=sol.y # Extract the solution for the density matric in terms of the time\n",
    "    density=np.reshape(solution,[2,2,nt]) # Reshape the solution to obtain a proper 2x2 matrix (2,2,time)\n",
    "    Prob[0,i,:]=np.abs(density[0,0,:]) # Probability to populate the triplet state\n",
    "    Prob[1,i,:]=np.abs(density[1,1,:]) # Probability to populate the hibrid singlet state"
   ]
  },
  {
   "cell_type": "code",
   "execution_count": null,
   "metadata": {
    "pycharm": {
     "is_executing": true
    }
   },
   "outputs": [],
   "source": [
    "fig1=plt.figure() #Plot the fidelty to populate the hibrid singlet state\n",
    "ax1=fig1.add_subplot(1,1,1)\n",
    "ax1.plot(tf,Prob[1,:,-1])\n",
    "ax1.set_xlim(t[0],t[-1])\n",
    "ax1.set_ylim(0,1.01);\n",
    "ax1.set_xlabel(r'$t_f\\; (ns)$')\n",
    "ax1.set_ylabel(r'$|\\langle S|\\Psi\\rangle|^2$');"
   ]
  },
  {
   "cell_type": "code",
   "execution_count": null,
   "metadata": {
    "pycharm": {
     "is_executing": true
    }
   },
   "outputs": [],
   "source": [
    "index=np.where(Prob[1,:,-1]==np.max(Prob[1,:,-1])) # Index where the maximun fidelity have been reached\n",
    "print(tf[index]) # Time for the maximun fidelity (ns)"
   ]
  },
  {
   "cell_type": "markdown",
   "metadata": {},
   "source": [
    "Now we what to check how many each singlet state have being populated. For this we know that the hibrid state is, without the normalization factor\n",
    "\n",
    "$$\n",
    "|S\\rangle=-\\dfrac{u+\\varepsilon+\\sqrt{8\\tau^2+(u+\\varepsilon)^2}}{2\\sqrt{2}\\tau}|S(1,1)\\rangle+|S(0,2)\\rangle \n",
    "$$\n",
    "\n",
    "This result have being obtained from Mathematica"
   ]
  },
  {
   "cell_type": "code",
   "execution_count": null,
   "metadata": {
    "pycharm": {
     "is_executing": true,
     "name": "#%%\n"
    }
   },
   "outputs": [],
   "source": [
    "c_eps=-(u+epsilon_sol+np.sqrt(8*tau**2+(u+epsilon_sol)**2))/(2*np.sqrt(2)*tau) #Hibrid single factor without normalization\n",
    "c_eps=c_eps/np.sqrt(c_eps**2+1) #Hibrid single factor with normalization\n",
    "prob_T=Prob[0,ind,:] # Probability to populate the triplet state in terms of time for a given final time\n",
    "prob_S_11=Prob[1,ind,:]*np.abs(c_eps)**2 # Probability to populate the single ocupation singlet state in terms of time for a given final time\n",
    "prob_S_02=Prob[1,ind,:]*(1-np.abs(c_eps)**2) # Probability to populate the double ocupation singlet state in terms of time for a given final time\n",
    "t=np.linspace(0,tf[ind],nt) # Array of time for a given final time (ns)"
   ]
  },
  {
   "cell_type": "code",
   "execution_count": null,
   "metadata": {
    "pycharm": {
     "is_executing": true,
     "name": "#%%\n"
    }
   },
   "outputs": [],
   "source": [
    "fig2=plt.figure() #Plot the population for each state in terms of time\n",
    "ax2=fig2.add_subplot(1,1,1)\n",
    "ax2.plot(t,prob_T,label=r'$|T_-\\rangle$')\n",
    "ax2.plot(t,prob_S_11,label=r'$|S(1,1)\\rangle$')\n",
    "ax2.plot(t,prob_S_02,label=r'$|S(0.2)\\rangle$')\n",
    "ax2.legend()\n",
    "ax2.set_xlabel('time (ns)')\n",
    "ax2.set_ylabel('Population');"
   ]
  },
  {
   "cell_type": "code",
   "execution_count": null,
   "metadata": {
    "pycharm": {
     "is_executing": true
    }
   },
   "outputs": [],
   "source": []
  }
 ],
 "metadata": {
  "kernelspec": {
   "name": "pycharm-fedee91",
   "language": "python",
   "display_name": "PyCharm (Codigos Python)"
  },
  "language_info": {
   "codemirror_mode": {
    "name": "ipython",
    "version": 3
   },
   "file_extension": ".py",
   "mimetype": "text/x-python",
   "name": "python",
   "nbconvert_exporter": "python",
   "pygments_lexer": "ipython3",
   "version": "3.7.4"
  },
  "pycharm": {
   "stem_cell": {
    "cell_type": "raw",
    "metadata": {
     "collapsed": false
    },
    "source": []
   }
  }
 },
 "nbformat": 4,
 "nbformat_minor": 2
}