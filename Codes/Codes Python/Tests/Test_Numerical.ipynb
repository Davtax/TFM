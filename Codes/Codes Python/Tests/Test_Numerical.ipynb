{
 "cells": [
  {
   "cell_type": "code",
   "execution_count": 1,
   "metadata": {},
   "outputs": [],
   "source": [
    "#Libreries that we will use\n",
    "import numpy as np\n",
    "import matplotlib.pyplot as plt\n",
    "from scipy.integrate import romb\n",
    "from scipy.integrate import solve_ivp, odeint, quad\n",
    "from scipy.interpolate import interp1d\n",
    "from IPython.display import Image"
   ]
  },
  {
   "cell_type": "code",
   "execution_count": 2,
   "metadata": {},
   "outputs": [],
   "source": [
    "hbar=6.582*10**(-1) # Hbar (ueV*ns)\n",
    "g=1.35 # g-factor fo the GaAs\n",
    "muB=57.883 # Bohr magneton (ueV/T)\n",
    "B=0.015 # Magnetic field applied (T)\n",
    "ET = g * muB * B # Zeeman spliting (ueV)\n",
    "l = 0.1 # Spin-flip tunneling (ueV)\n",
    "tau = 0.25 # Sping-conserving (ueV)\n",
    "u = 2000  #Intradot interaction (ueV)"
   ]
  },
  {
   "cell_type": "code",
   "execution_count": 21,
   "metadata": {},
   "outputs": [],
   "source": [
    "def hamiltoniano (t,fEps):\n",
    "    \n",
    "    H=np.zeros([2,2],dtype=complex)    \n",
    "    \n",
    "    if type(fEps).__module__ == 'scipy.interpolate.interpolate':\n",
    "        epsilon=fEps(t)\n",
    "        \n",
    "    else:\n",
    "        epsilon=fEps\n",
    "        \n",
    "    H[0,:]=[Delta(epsilon),l]\n",
    "    H[1,:]=[l,-Delta(epsilon)]\n",
    "    return H\n",
    "\n",
    "def Es(eps):\n",
    "    return (u + eps - np.sqrt(8 * tau ** 2 + (u + eps) ** 2)) / 2\n",
    "\n",
    "def Delta(eps):\n",
    "    return-(Es(eps)+ET)/2"
   ]
  },
  {
   "cell_type": "code",
   "execution_count": 47,
   "metadata": {},
   "outputs": [
    {
     "name": "stdout",
     "output_type": "stream",
     "text": [
      "N = 131073\n"
     ]
    },
    {
     "data": {
      "image/png": "[encoded data removed]",
      "text/plain": [
       "<Figure size 432x288 with 1 Axes>"
      ]
     },
     "metadata": {
      "needs_background": "light"
     },
     "output_type": "display_data"
    }
   ],
   "source": [
    "N=2**17+1\n",
    "print('N =',N)\n",
    "eps_vector=np.linspace(-4,4,N)*ET-u\n",
    "hypermatrix=np.zeros([N,2,2],dtype=complex)\n",
    "\n",
    "for i in range (0,N):\n",
    "    hypermatrix[i,:,:]=hamiltoniano(0,eps_vector[i])\n",
    "\n",
    "eigensystem=np.linalg.eigh(hypermatrix)\n",
    "energies=eigensystem[0]\n",
    "states=eigensystem[1] \n",
    "\n",
    "plt.plot((eps_vector+u)/ET,energies[:,0]/ET)\n",
    "plt.plot((eps_vector+u)/ET,energies[:,1]/ET);"
   ]
  },
  {
   "cell_type": "code",
   "execution_count": 41,
   "metadata": {},
   "outputs": [
    {
     "data": {
      "text/plain": [
       "3.2636068492234633"
      ]
     },
     "execution_count": 41,
     "metadata": {},
     "output_type": "execute_result"
    }
   ],
   "source": [
    "derivatives=np.zeros([N,2,2],dtype=complex)\n",
    "for i in range (0,2):\n",
    "    for j in range (0,2):\n",
    "        derivatives[:,i,j]=np.gradient(states[:,i,j],eps_vector)\n",
    "        \n",
    "factor=np.abs(np.sum(states[:,0,:]*derivatives[:,1,:],axis=1)/(energies[:,0]-energies[:,1]+10**(-16)))\n",
    "hbar*romb(factor,dx=np.abs(eps_vector[0]-eps_vector[1]),axis=0)"
   ]
  },
  {
   "cell_type": "code",
   "execution_count": 50,
   "metadata": {},
   "outputs": [
    {
     "data": {
      "text/plain": [
       "7.621260508930071"
      ]
     },
     "execution_count": 50,
     "metadata": {},
     "output_type": "execute_result"
    }
   ],
   "source": [
    "factor=np.zeros(N)\n",
    "for i in range (0,N):\n",
    "    factor[i]=np.abs(np.matmul(np.matmul(states[i,0,:],np.array([[1,0],[0,-1]])),states[i,1,:])/(energies[i,0]-energies[i,1])**2)\n",
    "hbar*romb(factor,dx=np.abs(eps_vector[0]-eps_vector[1]),axis=0)"
   ]
  }
 ],
 "metadata": {
  "kernelspec": {
   "display_name": "Python 3",
   "language": "python",
   "name": "python3"
  },
  "language_info": {
   "codemirror_mode": {
    "name": "ipython",
    "version": 3
   },
   "file_extension": ".py",
   "mimetype": "text/x-python",
   "name": "python",
   "nbconvert_exporter": "python",
   "pygments_lexer": "ipython3",
   "version": "3.8.2"
  }
 },
 "nbformat": 4,
 "nbformat_minor": 4
}
