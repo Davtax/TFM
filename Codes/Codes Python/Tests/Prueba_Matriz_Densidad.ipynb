{
 "cells": [
  {
   "cell_type": "markdown",
   "metadata": {
    "pycharm": {
     "name": "#%% md\n"
    }
   },
   "source": [
    "# Resolution of the system\n",
    "\n",
    "In this code we will try to solve the problem of going from the state $T_-(1,1)$ to the state $S(1,1)$, with the minimum psssible population of the double ocupation state $S(0,2)$. The model of the system will be a effective 2-level Hamiltonian like\n",
    "\n",
    "$$\n",
    "H_0(\\varepsilon)=\\left(\\begin{array}{cc}\n",
    "\\Delta(\\varepsilon) & \\lambda \\\\\n",
    "\\lambda & -\\Delta(\\varepsilon)\n",
    "\\end{array}\\right)\n",
    "$$\n",
    "\n",
    "where $\\Delta(\\epsilon)= [-E_T-E_S(\\varepsilon)]/2$, $E_T=g\\mu_BB$ and $E_S(\\varepsilon)=[u+\\varepsilon-\\sqrt{8\\tau^2+(u+\\varepsilon)^2}]/2$. The parameters that we will use are:\n",
    "\n",
    "$$\n",
    "\\begin{split}\n",
    "g&=1.35\\\\\n",
    "B&=0.015 \\; T\\\\\n",
    "\\tau&=0.25 \\; \\mu eV\\\\\n",
    "\\lambda&=0.1 \\, \\mu eV\n",
    "\\end{split}\n",
    "$$\n",
    "\n",
    "To work we some nice numbers the units of energy will be $\\mu eV$ and the units of time $ns$."
   ]
  },
  {
   "cell_type": "code",
   "execution_count": 3,
   "metadata": {},
   "outputs": [],
   "source": [
    "#Libreries that we will use\n",
    "import numpy as np\n",
    "import matplotlib.pyplot as plt\n",
    "from scipy.integrate import solve_ivp, odeint, quad\n",
    "from scipy.interpolate import interp1d\n",
    "from IPython.display import Image"
   ]
  },
  {
   "cell_type": "code",
   "execution_count": 4,
   "metadata": {},
   "outputs": [],
   "source": [
    "hbar=6.582*10**(-1) # Hbar (ueV*ns)\n",
    "g=1.35# g-factor fo the GaAs\n",
    "muB=57.883 # Bohr magneton (ueV/T)\n",
    "B=0.015 # Magnetic field applied (T)\n",
    "ET = g * muB* B # Zeeman spliting (ueV)\n",
    "l = 0.1 # Spin-flip tunneling (ueV)\n",
    "tau = 0.25 # Sping-conserving (ueV)\n",
    "u = 2000  #Intradot interaction (ueV)"
   ]
  },
  {
   "cell_type": "markdown",
   "metadata": {
    "pycharm": {
     "name": "#%% md\n"
    }
   },
   "source": [
    "The energy spectrum of or system is shown in the following figure. The parameters used to obtain this plot are the same as the given above.\n",
    "![title](img/Energy_Spectrum.png)\n",
    "\n",
    "We will go from -4 to 4 in this graph. The value obtained for $\\tilde{c}=3.26 \\; ns$, the adiabaticity parameter $c=\\tilde{c}/t_f\\ll 1$, in our case the times that we will use are  $t_F \\sim 15 \\; ns$ obtaining $c\\sim 0.2$. To compute this value we have made use of\n",
    "\n",
    "$$\n",
    "\\tilde{c}=ct_F=\\pm\\hbar\\int^{\\Delta(t_f)}_{\\Delta(0)}\\dfrac{d \\Delta}{\\left|\\dfrac{E_1-E_2}{\\langle \\phi_1| \\partial _{\\Delta}\\phi_2\\rangle}\\right|}\n",
    "$$\n",
    "\n",
    "where the states are\n",
    "\n",
    "$$\n",
    "\\begin{array}{cc}\n",
    "|\\phi_1\\rangle=\\left(\\begin{array}{c}\\cos(\\theta/2) \\\\ \\sin(\\theta/2)\\end{array}\\right) & \n",
    "|\\phi_2\\rangle=\\left(\\begin{array}{c}\\sin(\\theta/2) \\\\ -\\cos(\\theta/2)\\end{array}\\right)\n",
    "\\end{array}\n",
    "$$\n",
    "\n",
    "$\\tan(\\theta/2)=[-\\Delta+\\sqrt{\\Delta^2+\\lambda^2}]/\\lambda$ and $E_1-E_2=2\\sqrt{\\Delta^2+\\lambda^2}$. The result obtained is finally\n",
    "\n",
    "$$\n",
    "\\left|\\dfrac{E_1-E_2}{\\langle \\phi_1|\\partial_{\\Delta}\\phi_2\\rangle}\\right|=4\\left|\\dfrac{(\\lambda^2+\\Delta^2)^{1.5}}{\\lambda}\\right|\n",
    "$$"
   ]
  },
  {
   "cell_type": "code",
   "execution_count": 5,
   "metadata": {},
   "outputs": [
    {
     "name": "stdout",
     "output_type": "stream",
     "text": [
      "3.2638680446119364\n"
     ]
    }
   ],
   "source": [
    "Es = lambda eps: (u + eps - np.sqrt(8 * tau ** 2 + (u + eps) ** 2)) / 2 # Energy of the hibrid singlet state (ueV)\n",
    "Delta = lambda eps: -(ET+Es(eps)) / 2 # Refactor of the energy level in the effective Hamiltonan (ueV)\n",
    "\n",
    "eps0 = -4*np.abs(ET)-u # Bias energy at the beggining of the procedure (ueV)\n",
    "epstf = 4*np.abs(ET)-u # Bias energy at the end of the procedure (ueV)\n",
    "c1=hbar*np.abs(quad(lambda delta: l / np.abs(l ** 2 + delta ** 2) ** 1.5 / 4,Delta(eps0),Delta(epstf))[0]) # Rescaling of the adiabaticity parameter (ns)\n",
    "print(c1) # Print the value obtained for the rescaling of the adiabaticy parameter"
   ]
  },
  {
   "cell_type": "markdown",
   "metadata": {
    "pycharm": {
     "name": "#%% md\n"
    }
   },
   "source": [
    "Now we have to solve the EDO that give us the dependence of the bias in terms of the time, this is\n",
    "\n",
    "$$\n",
    "\\dfrac{d\\Delta}{ds}=\\pm\\dfrac{\\tilde{c}}{\\hbar}\\left|\\dfrac{E_1-E_2}{\\langle \\phi_1|\\partial_{\\Delta}\\phi_2\\rangle}\\right|\n",
    "$$\n",
    "\n",
    "between $s=0$ and $s=1$."
   ]
  },
  {
   "cell_type": "code",
   "execution_count": 6,
   "metadata": {},
   "outputs": [
    {
     "data": {
      "image/png": "[encoded data removed]",
      "text/plain": [
       "<Figure size 432x288 with 1 Axes>"
      ]
     },
     "metadata": {
      "needs_background": "light"
     },
     "output_type": "display_data"
    }
   ],
   "source": [
    "def model(y, t): # EDO to be solved\n",
    "    return -c1/hbar*4*np.abs(y ** 2 + l ** 2) ** 1.5 /l # The sign has been choosen to get the right values of the bias\n",
    "\n",
    "nt = 1000 # Numer of time steps\n",
    "s = np.linspace(0, 1, nt, endpoint=True) # Rescaled time parameter s=t/tF\n",
    "delta_sol = odeint(model, Delta(eps0), s)[:, 0]  # Solve numerically the values of the rescaling energy in terms of s\n",
    "epsilon_sol = -2 * delta_sol - ET + 2 * tau ** 2 / (2 * delta_sol + ET) - u # Value for the bias in terms of s (this expression have being obtained inverting the eq. for Delta)\n",
    "plt.plot(s, (epsilon_sol+u)/np.abs(ET)) # Plot for the rescaled bias\n",
    "plt.xlabel(r'$s$')\n",
    "plt.ylabel(r'$(\\varepsilon+u)/E_T$');\n",
    "\n",
    "c_eps=-(u+epsilon_sol+np.sqrt(8*tau**2+(u+epsilon_sol)**2))/(2*np.sqrt(2)*tau) #Hibrid single factor without normalization\n",
    "c_eps=c_eps/np.sqrt(c_eps**2+1) #Hibrid single factor with normalization"
   ]
  },
  {
   "cell_type": "markdown",
   "metadata": {},
   "source": [
    "The EDO's that we have to solve in order to obtain the dynamic of the system is given in terms of the density matrix\n",
    "\n",
    "$$\n",
    "\\dfrac{d \\rho(t)}{d t}=-\\dfrac{i}{\\hbar}\\left[H(t),\\rho(t)\\right]\n",
    "$$"
   ]
  },
  {
   "cell_type": "code",
   "execution_count": 7,
   "metadata": {},
   "outputs": [],
   "source": [
    "def hamiltonian_ext(t,fEps): # Definition of the Hamiltonian of the system in terms of the time\n",
    "    H=np.zeros([3,3],dtype=complex)\n",
    "    epsilon=fEps(t)\n",
    "    \n",
    "    c_eps_temp=-(u+epsilon+np.sqrt(8*tau**2+(u+epsilon)**2))/(2*np.sqrt(2)*tau)\n",
    "    c_eps_temp=c_eps_temp/np.sqrt(c_eps_temp**2+1)\n",
    "    \n",
    "    c_eps_temp_prime=(-u-epsilon+np.sqrt(8*tau**2+(u+epsilon)**2))/(2*np.sqrt(2)*tau)\n",
    "    c_eps_temp_prime=c_eps_temp_prime/np.sqrt(c_eps_temp_prime**2+1)\n",
    "    \n",
    "    l_time=l*np.sqrt(1-c_eps_temp**2)\n",
    "    l_prime_time=l*np.sqrt(1-c_eps_temp_prime**2)\n",
    "    \n",
    "    Es=(u+epsilon-np.sqrt(8*tau**2+(u+epsilon)**2))/2\n",
    "    Es_prime=(u+epsilon+np.sqrt(8*tau**2+(u+epsilon)**2))/2\n",
    "    \n",
    "    H[0,:]=[fDelta(t),l_time,l_prime_time]\n",
    "    H[1,:]=[l_time,Es,0]\n",
    "    H[2,:]=[l_prime_time,0,Es_prime]\n",
    "    return H\n",
    "\n",
    "def hamiltonian(t,fEps):\n",
    "    H=np.zeros([2,2],dtype=complex)\n",
    "    \n",
    "    epsilon=fEps(t)\n",
    "    \n",
    "    c_eps_temp=-(u+epsilon+np.sqrt(8*tau**2+(u+epsilon)**2))/(2*np.sqrt(2)*tau)\n",
    "    c_eps_temp=c_eps_temp/np.sqrt(c_eps_temp**2+1)\n",
    "    \n",
    "    l_time=l*np.sqrt(1-c_eps_temp**2)\n",
    "    \n",
    "    H[0,:]=[fDelta(t),l_time]\n",
    "    H[1,:]=[l_time,-fDelta(t)]\n",
    "    return H\n",
    "\n",
    "def density_matrix(t,y,dim,fEps): # Definition of the density matrix equation for the evolution\n",
    "    rho=np.reshape(y,[dim,dim]) # The density matrix is given as an array, reshape to form a matrix\n",
    "    if dim==2:\n",
    "        H=hamiltonian(t,fEps) # Obtain the familtonian at the given time\n",
    "    elif dim==3:\n",
    "        H=hamiltonian_ext(t,fEps) # Obtain the familtonian at the given time\n",
    "    drhodt=np.matmul(H,rho)-np.matmul(rho,H) # Compute the commutator of the density matrix and the Hamiltonian\n",
    "    return(-1j*drhodt.flatten()/hbar) #Compute the right-hand side of the EDO to be solved"
   ]
  },
  {
   "cell_type": "code",
   "execution_count": 8,
   "metadata": {},
   "outputs": [],
   "source": [
    "dim=2\n",
    "density0=np.zeros([dim,dim],dtype=complex) #Initialize the variable to save the density matrix\n",
    "density0[0,0]=1 # Initially the only state populated is the triplet (in our basis the first state)\n",
    "\n",
    "n=100 #Number of different final times for the procedure\n",
    "tf=np.linspace(0.1,30,n) # Array of final times (ns)\n",
    "Prob=np.zeros([dim,n,nt]) # Variable to save the population for each state (state, final_time, evolution)\n",
    "\n",
    "for i in range (0,n):  #Iterate to solve of the dynamics for each final time\n",
    "    t=np.linspace(0,tf[i],nt) # Array for the time (ns)\n",
    "    fDelta = interp1d(t, delta_sol, kind='cubic', fill_value=\"extrapolate\") # Interpolate the values obtained for Delta\n",
    "    fEps = interp1d(t, epsilon_sol, kind='cubic', fill_value=\"extrapolate\") # Interpolate the values obtained for epsilon\n",
    "    sol= solve_ivp(density_matrix,(t[0],t[-1]), density0.flatten(),t_eval=t,args=[dim,fEps]) # Solve the dynamic\n",
    "    solution=sol.y # Extract the solution for the density matric in terms of the time\n",
    "    density=np.reshape(solution,[dim,dim,nt]) # Reshape the solution to obtain a proper matrix (dim,dim,time)\n",
    "    for j in range (0,dim):\n",
    "        Prob[j,i,:]=np.abs(density[j,j,:]) # Probability to populate the states"
   ]
  },
  {
   "cell_type": "code",
   "execution_count": 9,
   "metadata": {},
   "outputs": [
    {
     "data": {
      "image/png": "[encoded data removed]",
      "text/plain": [
       "<Figure size 432x288 with 1 Axes>"
      ]
     },
     "metadata": {
      "needs_background": "light"
     },
     "output_type": "display_data"
    }
   ],
   "source": [
    "fig1=plt.figure() #Plot the fidelty to populate the hibrid singlet state\n",
    "ax1=fig1.add_subplot(1,1,1)\n",
    "ax1.plot(tf,Prob[1,:,-1])\n",
    "ax1.set_xlim(t[0],t[-1])\n",
    "ax1.set_ylim(0,1.01);\n",
    "ax1.set_xlabel(r'$t_f\\; (ns)$')\n",
    "ax1.set_ylabel(r'$|\\langle S|\\Psi\\rangle|^2$');"
   ]
  },
  {
   "cell_type": "code",
   "execution_count": 10,
   "metadata": {},
   "outputs": [
    {
     "name": "stdout",
     "output_type": "stream",
     "text": [
      "26.37575757575758\n",
      "0.9993436283283024\n"
     ]
    }
   ],
   "source": [
    "index=np.where(Prob[1,:,-1]==np.max(Prob[1,:,-1]))[0][0] # Index where the maximun fidelity have been reached\n",
    "print(tf[index]) # Time for the maximun fidelity (ns)\n",
    "print(Prob[1,:,-1][index])"
   ]
  },
  {
   "cell_type": "markdown",
   "metadata": {
    "pycharm": {
     "name": "#%% md\n"
    }
   },
   "source": [
    "Now we what to check how many each singlet state have being populated. For this we know that the hibrid state is, without the normalization factor\n",
    "\n",
    "$$\n",
    "|S\\rangle=-\\dfrac{u+\\varepsilon+\\sqrt{8\\tau^2+(u+\\varepsilon)^2}}{2\\sqrt{2}\\tau}|S(1,1)\\rangle+|S(0,2)\\rangle \n",
    "$$\n",
    "\n",
    "This result have being obtained from Mathematica"
   ]
  },
  {
   "cell_type": "code",
   "execution_count": 11,
   "metadata": {
    "pycharm": {
     "name": "#%%\n"
    }
   },
   "outputs": [],
   "source": [
    "prob_T=Prob[0,index,:] # Probability to populate the triplet state in terms of time for a given final time\n",
    "prob_S_11=Prob[1,index,:]*np.abs(c_eps)**2 # Probability to populate the single ocupation singlet state in terms of time for a given final time\n",
    "prob_S_02=Prob[1,index,:]*(1-np.abs(c_eps)**2) # Probability to populate the double ocupation singlet state in terms of time for a given final time\n",
    "t=np.linspace(0,tf[index],nt) # Array of time for a given final time (ns)"
   ]
  },
  {
   "cell_type": "code",
   "execution_count": 12,
   "metadata": {
    "pycharm": {
     "name": "#%%\n"
    }
   },
   "outputs": [
    {
     "data": {
      "image/png": "[encoded data removed]",
      "text/plain": [
       "<Figure size 432x288 with 1 Axes>"
      ]
     },
     "metadata": {
      "needs_background": "light"
     },
     "output_type": "display_data"
    }
   ],
   "source": [
    "fig2=plt.figure() #Plot the population for each state in terms of time\n",
    "ax2=fig2.add_subplot(1,1,1)\n",
    "ax2.plot(t,prob_T,label=r'$|T_-(1,1)\\rangle$')\n",
    "ax2.plot(t,prob_S_11,label=r'$|S(1,1)\\rangle$')\n",
    "ax2.plot(t,prob_S_02,label=r'$|S(0,2)\\rangle$')\n",
    "ax2.legend()\n",
    "ax2.set_xlabel('time (ns)')\n",
    "ax2.set_ylabel('Population')\n",
    "ax2.set_xlim([0,tf[index]*1.01])\n",
    "ax2.set_ylim([0,1.01]);"
   ]
  },
  {
   "cell_type": "code",
   "execution_count": 13,
   "metadata": {},
   "outputs": [
    {
     "data": {
      "text/plain": [
       "<matplotlib.legend.Legend at 0x246a28f1f40>"
      ]
     },
     "execution_count": 13,
     "metadata": {},
     "output_type": "execute_result"
    },
    {
     "data": {
      "image/png": "[encoded data removed]",
      "text/plain": [
       "<Figure size 432x288 with 1 Axes>"
      ]
     },
     "metadata": {
      "needs_background": "light"
     },
     "output_type": "display_data"
    }
   ],
   "source": [
    "fig3=plt.figure()\n",
    "ax3=fig3.add_subplot(1,1,1)\n",
    "ax3.plot((epsilon_sol+u)/ET,prob_T,label=r'$|T_-(1,1)\\rangle$')\n",
    "ax3.plot((epsilon_sol+u)/ET,prob_S_11,label=r'$|S(1,1)\\rangle$')\n",
    "ax3.plot((epsilon_sol+u)/ET,prob_S_02,label=r'$|S(0,2)\\rangle$')\n",
    "ax3.legend()"
   ]
  },
  {
   "cell_type": "markdown",
   "metadata": {
    "pycharm": {
     "name": "#%% md\n"
    }
   },
   "source": [
    "# Plots to be save\n",
    "From this point all the code is to generate good looking graphs to be printed in the .PDF"
   ]
  },
  {
   "cell_type": "code",
   "execution_count": null,
   "metadata": {
    "pycharm": {
     "name": "#%%\n"
    }
   },
   "outputs": [],
   "source": [
    "line_width=2.5\n",
    "legend_size=20\n",
    "label_size=20\n",
    "tick_labe_size=15\n",
    "\n",
    "fig1=plt.figure(figsize=(7.68,4)) #Plot the fidelty to populate the hibrid singlet state\n",
    "ax1=fig1.add_subplot(1,1,1)\n",
    "ax1.plot(tf,Prob[1,:,-1],linewidth=line_width)\n",
    "ax1.set_xlim(tf[0],tf[-1])\n",
    "ax1.set_ylim(0,1.05);\n",
    "ax1.set_xlabel(r'$t_f\\; (ns)$',fontsize=label_size)\n",
    "ax1.set_ylabel('F',fontsize=label_size)\n",
    "ax1.tick_params(axis='both', which='major', labelsize=tick_labe_size,direction='in',length=6.5)\n",
    "\n",
    "\n",
    "dic='D:/OneDrive - Universidad Autonoma de Madrid/Universidad/Dropbox/Trabajo Yue-David/Notas David/LaTeX/images'\n",
    "arch='fidelity_1'\n",
    "img_format='png'\n",
    "fig1.savefig(dic+'/' +arch+'.'+img_format,format=img_format,bbox_inches=\"tight\",dpi=300)"
   ]
  },
  {
   "cell_type": "code",
   "execution_count": null,
   "metadata": {
    "pycharm": {
     "name": "#%%\n"
    }
   },
   "outputs": [],
   "source": [
    "line_width=2.5\n",
    "legend_size=17\n",
    "label_size=20\n",
    "tick_labe_size=15\n",
    "\n",
    "fig2=plt.figure(figsize=(7.68,5.76)) #Plot the population for each state in terms of time\n",
    "ax2=fig2.add_subplot(1,1,1)\n",
    "ax2.plot(t,prob_T,label=r'$|T_-(1,1)\\rangle$',linewidth=line_width)\n",
    "ax2.plot(t,prob_S_11,label=r'$|S(1,1)\\rangle$',linewidth=line_width)\n",
    "ax2.plot(t,prob_S_02,label=r'$|S(0,2)\\rangle$',linewidth=line_width)\n",
    "ax2.legend(fontsize=legend_size)\n",
    "ax2.set_xlabel('time (ns)',fontsize=label_size)\n",
    "ax2.set_ylabel('Population',fontsize=label_size)\n",
    "ax2.set_xlim([0,tf[index]*1.01])\n",
    "ax2.set_ylim([0,1.01])\n",
    "ax2.tick_params(axis='both', which='major', labelsize=tick_labe_size,direction='in',length=6.5)\n",
    "\n",
    "dic='D:/OneDrive - Universidad Autonoma de Madrid/Universidad/Dropbox/Trabajo Yue-David/Notas David/LaTeX/images'\n",
    "arch='population_1'\n",
    "img_format='png'\n",
    "fig2.savefig(dic+'/' +arch+'.'+img_format,format=img_format,bbox_inches=\"tight\",dpi=300)"
   ]
  },
  {
   "cell_type": "code",
   "execution_count": null,
   "metadata": {
    "pycharm": {
     "name": "#%%\n"
    }
   },
   "outputs": [],
   "source": [
    "line_width=2.5\n",
    "legend_size=17\n",
    "label_size=20\n",
    "tick_labe_size=15\n",
    "\n",
    "fig3=plt.figure(figsize=(7.68,5.76))\n",
    "ax3=fig3.add_subplot(1,1,1)\n",
    "ax3.plot(s, (epsilon_sol+u)/np.abs(ET)) # Plot for the rescaled bias\n",
    "plt.xlabel(r'$s$')\n",
    "plt.ylabel(r'$(\\varepsilon+u)/E_T$');"
   ]
  },
  {
   "cell_type": "code",
   "execution_count": null,
   "metadata": {
    "pycharm": {
     "name": "#%%\n"
    }
   },
   "outputs": [],
   "source": [
    "line_width=2.5\n",
    "legend_size=17\n",
    "label_size=20\n",
    "tick_labe_size=15\n",
    "\n",
    "fig3=plt.figure(figsize=(7.68,5.76))\n",
    "ax3=fig3.add_subplot(1,1,1)\n",
    "ax3.plot(s, (epsilon_sol+u)/np.abs(ET)) # Plot for the rescaled bias\n",
    "plt.xlabel(r'$s$')\n",
    "plt.ylabel(r'$(\\varepsilon+u)/E_T$');"
   ]
  },
  {
   "cell_type": "code",
   "execution_count": null,
   "metadata": {
    "pycharm": {
     "name": "#%%\n"
    }
   },
   "outputs": [],
   "source": [
    "line_width=2.5\n",
    "legend_size=17\n",
    "label_size=20\n",
    "tick_labe_size=15\n",
    "\n",
    "fig2=plt.figure(figsize=(7.68,5.76)) #Plot the population for each state in terms of time\n",
    "ax2=fig2.add_subplot(1,1,1)\n",
    "ax2.plot(t,prob_T,label=r'$|T_-(1,1)\\rangle$',linewidth=line_width)\n",
    "ax2.plot(t,prob_S_11,label=r'$|S(1,1)\\rangle$',linewidth=line_width)\n",
    "ax2.plot(t,prob_S_02,label=r'$|S(0,2)\\rangle$',linewidth=line_width)\n",
    "ax2.legend(fontsize=legend_size)\n",
    "ax2.set_xlabel('time (ns)',fontsize=label_size)\n",
    "ax2.set_ylabel('Population',fontsize=label_size)\n",
    "ax2.set_xlim([0,tf[index]*1.01])\n",
    "ax2.set_ylim([0,1.01])\n",
    "ax2.tick_params(axis='both', which='major', labelsize=tick_labe_size,direction='in',length=6.5)\n",
    "\n",
    "dic='D:/OneDrive - Universidad Autonoma de Madrid/Universidad/Dropbox/Trabajo Yue-David/Notas David/LaTeX/images'\n",
    "arch='population_1'\n",
    "img_format='png'\n",
    "fig2.savefig(dic+'/' +arch+'.'+img_format,format=img_format,bbox_inches=\"tight\",dpi=300)"
   ]
  },
  {
   "cell_type": "code",
   "execution_count": null,
   "metadata": {
    "pycharm": {
     "name": "#%%\n"
    }
   },
   "outputs": [],
   "source": [
    "line_width=2.5\n",
    "legend_size=17\n",
    "label_size=20\n",
    "tick_labe_size=15\n",
    "\n",
    "fig3=plt.figure(figsize=(7.68,5.76))\n",
    "ax3=fig3.add_subplot(1,1,1)\n",
    "ax3.plot(s, (epsilon_sol+u)/np.abs(ET)) # Plot for the rescaled bias\n",
    "plt.xlabel(r'$s$')\n",
    "plt.ylabel(r'$(\\varepsilon+u)/E_T$');"
   ]
  },
  {
   "cell_type": "code",
   "execution_count": null,
   "metadata": {
    "pycharm": {
     "name": "#%%\n"
    }
   },
   "outputs": [],
   "source": [
    "line_width=2.5\n",
    "legend_size=17\n",
    "label_size=20\n",
    "tick_labe_size=15\n",
    "\n",
    "fig3=plt.figure(figsize=(7.68,5.76))\n",
    "ax3=fig3.add_subplot(1,1,1)\n",
    "ax3.plot(s, (epsilon_sol+u)/np.abs(ET)) # Plot for the rescaled bias\n",
    "plt.xlabel(r'$s$')\n",
    "plt.ylabel(r'$(\\varepsilon+u)/E_T$');"
   ]
  },
  {
   "cell_type": "code",
   "execution_count": null,
   "metadata": {
    "pycharm": {
     "name": "#%%\n"
    }
   },
   "outputs": [],
   "source": [
    "line_width=2.5\n",
    "legend_size=17\n",
    "label_size=20\n",
    "tick_labe_size=15\n",
    "\n",
    "fig2=plt.figure(figsize=(7.68,5.76)) #Plot the population for each state in terms of time\n",
    "ax2=fig2.add_subplot(1,1,1)\n",
    "ax2.plot(t,prob_T,label=r'$|T_-(1,1)\\rangle$',linewidth=line_width)\n",
    "ax2.plot(t,prob_S_11,label=r'$|S(1,1)\\rangle$',linewidth=line_width)\n",
    "ax2.plot(t,prob_S_02,label=r'$|S(0,2)\\rangle$',linewidth=line_width)\n",
    "ax2.legend(fontsize=legend_size)\n",
    "ax2.set_xlabel('time (ns)',fontsize=label_size)\n",
    "ax2.set_ylabel('Population',fontsize=label_size)\n",
    "ax2.set_xlim([0,tf[index]*1.01])\n",
    "ax2.set_ylim([0,1.01])\n",
    "ax2.tick_params(axis='both', which='major', labelsize=tick_labe_size,direction='in',length=6.5)\n",
    "\n",
    "dic='D:/OneDrive - Universidad Autonoma de Madrid/Universidad/Dropbox/Trabajo Yue-David/Notas David/LaTeX/images'\n",
    "arch='population_1'\n",
    "img_format='png'\n",
    "fig2.savefig(dic+'/' +arch+'.'+img_format,format=img_format,bbox_inches=\"tight\",dpi=300)"
   ]
  },
  {
   "cell_type": "code",
   "execution_count": null,
   "metadata": {
    "pycharm": {
     "name": "#%%\n"
    }
   },
   "outputs": [],
   "source": [
    "line_width=2.5\n",
    "legend_size=17\n",
    "label_size=20\n",
    "tick_labe_size=15\n",
    "\n",
    "fig3=plt.figure(figsize=(7.68,5.76))\n",
    "ax3=fig3.add_subplot(1,1,1)\n",
    "ax3.plot(s, (epsilon_sol+u)/np.abs(ET)) # Plot for the rescaled bias\n",
    "plt.xlabel(r'$s$')\n",
    "plt.ylabel(r'$(\\varepsilon+u)/E_T$');"
   ]
  },
  {
   "cell_type": "code",
   "execution_count": null,
   "metadata": {
    "pycharm": {
     "name": "#%%\n"
    }
   },
   "outputs": [],
   "source": [
    "line_width=2.5\n",
    "legend_size=17\n",
    "label_size=20\n",
    "tick_labe_size=15\n",
    "\n",
    "fig3=plt.figure(figsize=(7.68,5.76))\n",
    "ax3=fig3.add_subplot(1,1,1)\n",
    "ax3.plot(s, (epsilon_sol+u)/np.abs(ET)) # Plot for the rescaled bias\n",
    "plt.xlabel(r'$s$')\n",
    "plt.ylabel(r'$(\\varepsilon+u)/E_T$');"
   ]
  },
  {
   "cell_type": "code",
   "execution_count": null,
   "metadata": {
    "pycharm": {
     "name": "#%%\n"
    }
   },
   "outputs": [],
   "source": [
    "line_width=2.5\n",
    "legend_size=17\n",
    "label_size=20\n",
    "tick_labe_size=15\n",
    "\n",
    "fig2=plt.figure(figsize=(7.68,5.76)) #Plot the population for each state in terms of time\n",
    "ax2=fig2.add_subplot(1,1,1)\n",
    "ax2.plot(t,prob_T,label=r'$|T_-(1,1)\\rangle$',linewidth=line_width)\n",
    "ax2.plot(t,prob_S_11,label=r'$|S(1,1)\\rangle$',linewidth=line_width)\n",
    "ax2.plot(t,prob_S_02,label=r'$|S(0,2)\\rangle$',linewidth=line_width)\n",
    "ax2.legend(fontsize=legend_size)\n",
    "ax2.set_xlabel('time (ns)',fontsize=label_size)\n",
    "ax2.set_ylabel('Population',fontsize=label_size)\n",
    "ax2.set_xlim([0,tf[index]*1.01])\n",
    "ax2.set_ylim([0,1.01])\n",
    "ax2.tick_params(axis='both', which='major', labelsize=tick_labe_size,direction='in',length=6.5)\n",
    "\n",
    "dic='D:/OneDrive - Universidad Autonoma de Madrid/Universidad/Dropbox/Trabajo Yue-David/Notas David/LaTeX/images'\n",
    "arch='population_1'\n",
    "img_format='png'\n",
    "fig2.savefig(dic+'/' +arch+'.'+img_format,format=img_format,bbox_inches=\"tight\",dpi=300)"
   ]
  },
  {
   "cell_type": "code",
   "execution_count": null,
   "metadata": {
    "pycharm": {
     "name": "#%%\n"
    }
   },
   "outputs": [],
   "source": [
    "line_width=2.5\n",
    "legend_size=17\n",
    "label_size=20\n",
    "tick_labe_size=15\n",
    "\n",
    "fig3=plt.figure(figsize=(7.68,5.76))\n",
    "ax3=fig3.add_subplot(1,1,1)\n",
    "ax3.plot(s, (epsilon_sol+u)/np.abs(ET)) # Plot for the rescaled bias\n",
    "plt.xlabel(r'$s$')\n",
    "plt.ylabel(r'$(\\varepsilon+u)/E_T$');"
   ]
  },
  {
   "cell_type": "code",
   "execution_count": null,
   "metadata": {},
   "outputs": [],
   "source": [
    "line_width=2.5\n",
    "legend_size=17\n",
    "label_size=20\n",
    "tick_labe_size=15\n",
    "\n",
    "fig3=plt.figure(figsize=(7.68,5.76))\n",
    "ax3=fig3.add_subplot(1,1,1)\n",
    "ax3.plot(s, (epsilon_sol+u)/np.abs(ET)) # Plot for the rescaled bias\n",
    "plt.xlabel(r'$s$')\n",
    "plt.ylabel(r'$(\\varepsilon+u)/E_T$');"
   ]
  },
  {
   "cell_type": "code",
   "execution_count": null,
   "metadata": {},
   "outputs": [],
   "source": [
    "line_width=2.5\n",
    "legend_size=17\n",
    "label_size=20\n",
    "tick_labe_size=15\n",
    "\n",
    "fig2=plt.figure(figsize=(7.68,5.76)) #Plot the population for each state in terms of time\n",
    "ax2=fig2.add_subplot(1,1,1)\n",
    "ax2.plot(t,prob_T,label=r'$|T_-(1,1)\\rangle$',linewidth=line_width)\n",
    "ax2.plot(t,prob_S_11,label=r'$|S(1,1)\\rangle$',linewidth=line_width)\n",
    "ax2.plot(t,prob_S_02,label=r'$|S(0,2)\\rangle$',linewidth=line_width)\n",
    "ax2.legend(fontsize=legend_size)\n",
    "ax2.set_xlabel('time (ns)',fontsize=label_size)\n",
    "ax2.set_ylabel('Population',fontsize=label_size)\n",
    "ax2.set_xlim([0,tf[index]*1.01])\n",
    "ax2.set_ylim([0,1.01])\n",
    "ax2.tick_params(axis='both', which='major', labelsize=tick_labe_size,direction='in',length=6.5)\n",
    "\n",
    "dic='D:/OneDrive - Universidad Autonoma de Madrid/Universidad/Dropbox/Trabajo Yue-David/Notas David/LaTeX/images'\n",
    "arch='population_1'\n",
    "img_format='png'\n",
    "fig2.savefig(dic+'/' +arch+'.'+img_format,format=img_format,bbox_inches=\"tight\",dpi=300)"
   ]
  },
  {
   "cell_type": "code",
   "execution_count": null,
   "metadata": {},
   "outputs": [],
   "source": [
    "line_width=2.5\n",
    "legend_size=17\n",
    "label_size=20\n",
    "tick_labe_size=15\n",
    "\n",
    "fig3=plt.figure(figsize=(7.68,5.76))\n",
    "ax3=fig3.add_subplot(1,1,1)\n",
    "ax3.plot(s, (epsilon_sol+u)/np.abs(ET)) # Plot for the rescaled bias\n",
    "plt.xlabel(r'$s$')\n",
    "plt.ylabel(r'$(\\varepsilon+u)/E_T$');"
   ]
  }
 ],
 "metadata": {
  "kernelspec": {
   "display_name": "Python 3",
   "language": "python",
   "name": "python3"
  },
  "language_info": {
   "codemirror_mode": {
    "name": "ipython",
    "version": 3
   },
   "file_extension": ".py",
   "mimetype": "text/x-python",
   "name": "python",
   "nbconvert_exporter": "python",
   "pygments_lexer": "ipython3",
   "version": "3.7.7"
  }
 },
 "nbformat": 4,
 "nbformat_minor": 2
}